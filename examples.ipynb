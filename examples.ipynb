{
 "cells": [
  {
   "cell_type": "markdown",
   "metadata": {},
   "source": [
    "# labdevices examples\n",
    "\n",
    "Below are several examples of how to use or test the drivers in the labdevices folder.\n",
    "Just scroll through and play around."
   ]
  },
  {
   "cell_type": "markdown",
   "metadata": {},
   "source": [
    "## General Tests\n",
    "Use the pyvisa package connecting to all kinds of different devices via GPIB, SERIAL, USB, ETHERNET"
   ]
  },
  {
   "cell_type": "code",
   "execution_count": 6,
   "metadata": {},
   "outputs": [],
   "source": [
    "import pyvisa"
   ]
  },
  {
   "cell_type": "code",
   "execution_count": 7,
   "metadata": {},
   "outputs": [
    {
     "name": "stdout",
     "output_type": "stream",
     "text": [
      "('ASRL/dev/ttyS4::INSTR', 'ASRL/dev/ttyUSB0::INSTR')\n"
     ]
    }
   ],
   "source": [
    "rm = pyvisa.ResourceManager()\n",
    "resources = rm.list_resources()\n",
    "print(resources)"
   ]
  },
  {
   "cell_type": "code",
   "execution_count": null,
   "metadata": {},
   "outputs": [],
   "source": [
    "device = rm.open_resource(\n",
    "    resources[1],\n",
    "    timeout=100,\n",
    "    encoding='ascii',\n",
    "    parity=pyvisa.constants.Parity.none,\n",
    "    baud_rate=9600,\n",
    "    data_bits=8,\n",
    "    stop_bits=pyvisa.constants.StopBits.one,\n",
    "    flow_control=pyvisa.constants.VI_ASRL_FLOW_NONE,\n",
    "    write_termination='\\r\\n',\n",
    "    read_termination='\\r\\n'\n",
    ")\n"
   ]
  },
  {
   "cell_type": "code",
   "execution_count": null,
   "metadata": {},
   "outputs": [],
   "source": [
    "device.query('AYT')"
   ]
  },
  {
   "cell_type": "code",
   "execution_count": null,
   "metadata": {},
   "outputs": [],
   "source": [
    "device.query('\\x05').split(',')"
   ]
  },
  {
   "cell_type": "code",
   "execution_count": null,
   "metadata": {},
   "outputs": [],
   "source": [
    "device.write('\\x03')"
   ]
  },
  {
   "cell_type": "code",
   "execution_count": null,
   "metadata": {},
   "outputs": [],
   "source": [
    "device.close()"
   ]
  },
  {
   "cell_type": "markdown",
   "metadata": {},
   "source": [
    "# ANDO"
   ]
  },
  {
   "cell_type": "markdown",
   "metadata": {},
   "source": [
    "## Spectrum Analyzer"
   ]
  },
  {
   "cell_type": "code",
   "execution_count": 1,
   "metadata": {},
   "outputs": [],
   "source": [
    "from labdevices import ando"
   ]
  },
  {
   "cell_type": "code",
   "execution_count": 2,
   "metadata": {},
   "outputs": [],
   "source": [
    "device = ando.SpectrumAnalyzer('10.0.0.40')"
   ]
  },
  {
   "cell_type": "code",
   "execution_count": 3,
   "metadata": {
    "scrolled": true
   },
   "outputs": [
    {
     "ename": "UnicodeDecodeError",
     "evalue": "'ascii' codec can't decode byte 0xff in position 30: ordinal not in range(128)",
     "output_type": "error",
     "traceback": [
      "\u001b[0;31m---------------------------------------------------------------------------\u001b[0m",
      "\u001b[0;31mUnicodeDecodeError\u001b[0m                        Traceback (most recent call last)",
      "\u001b[0;32m<ipython-input-3-44cb4360afcb>\u001b[0m in \u001b[0;36m<module>\u001b[0;34m\u001b[0m\n\u001b[0;32m----> 1\u001b[0;31m \u001b[0mdevice\u001b[0m\u001b[0;34m.\u001b[0m\u001b[0minitialize\u001b[0m\u001b[0;34m(\u001b[0m\u001b[0;34m)\u001b[0m\u001b[0;34m\u001b[0m\u001b[0;34m\u001b[0m\u001b[0m\n\u001b[0m",
      "\u001b[0;32m~/python/labdevices/labdevices/ando.py\u001b[0m in \u001b[0;36minitialize\u001b[0;34m(self)\u001b[0m\n\u001b[1;32m     55\u001b[0m         ]\n\u001b[1;32m     56\u001b[0m         \u001b[0mi\u001b[0m\u001b[0;34m=\u001b[0m\u001b[0;36m0\u001b[0m\u001b[0;34m\u001b[0m\u001b[0;34m\u001b[0m\u001b[0m\n\u001b[0;32m---> 57\u001b[0;31m         \u001b[0;32mfor\u001b[0m \u001b[0meach\u001b[0m \u001b[0;32min\u001b[0m \u001b[0mself\u001b[0m\u001b[0;34m.\u001b[0m\u001b[0midn\u001b[0m\u001b[0;34m:\u001b[0m\u001b[0;34m\u001b[0m\u001b[0;34m\u001b[0m\u001b[0m\n\u001b[0m\u001b[1;32m     58\u001b[0m             \u001b[0mprint\u001b[0m\u001b[0;34m(\u001b[0m\u001b[0midn_respons\u001b[0m\u001b[0;34m[\u001b[0m\u001b[0mi\u001b[0m\u001b[0;34m]\u001b[0m\u001b[0;34m,\u001b[0m \u001b[0meach\u001b[0m\u001b[0;34m)\u001b[0m\u001b[0;34m\u001b[0m\u001b[0;34m\u001b[0m\u001b[0m\n\u001b[1;32m     59\u001b[0m             \u001b[0mi\u001b[0m\u001b[0;34m+=\u001b[0m\u001b[0;36m1\u001b[0m\u001b[0;34m\u001b[0m\u001b[0;34m\u001b[0m\u001b[0m\n",
      "\u001b[0;32m~/python/labdevices/labdevices/ando.py\u001b[0m in \u001b[0;36midn\u001b[0;34m(self)\u001b[0m\n\u001b[1;32m     79\u001b[0m     \u001b[0;32mdef\u001b[0m \u001b[0midn\u001b[0m\u001b[0;34m(\u001b[0m\u001b[0mself\u001b[0m\u001b[0;34m)\u001b[0m \u001b[0;34m->\u001b[0m \u001b[0mlist\u001b[0m\u001b[0;34m:\u001b[0m\u001b[0;34m\u001b[0m\u001b[0;34m\u001b[0m\u001b[0m\n\u001b[1;32m     80\u001b[0m         \u001b[0;34m\"\"\" Get device identity \"\"\"\u001b[0m\u001b[0;34m\u001b[0m\u001b[0;34m\u001b[0m\u001b[0m\n\u001b[0;32m---> 81\u001b[0;31m         \u001b[0midn\u001b[0m \u001b[0;34m=\u001b[0m \u001b[0mself\u001b[0m\u001b[0;34m.\u001b[0m\u001b[0mquery\u001b[0m\u001b[0;34m(\u001b[0m\u001b[0;34m'*IDN?'\u001b[0m\u001b[0;34m)\u001b[0m\u001b[0;34m\u001b[0m\u001b[0;34m\u001b[0m\u001b[0m\n\u001b[0m\u001b[1;32m     82\u001b[0m         \u001b[0;32mreturn\u001b[0m \u001b[0midn\u001b[0m\u001b[0;34m.\u001b[0m\u001b[0msplit\u001b[0m\u001b[0;34m(\u001b[0m\u001b[0;34m','\u001b[0m\u001b[0;34m)\u001b[0m\u001b[0;34m\u001b[0m\u001b[0;34m\u001b[0m\u001b[0m\n\u001b[1;32m     83\u001b[0m \u001b[0;34m\u001b[0m\u001b[0m\n",
      "\u001b[0;32m~/python/labdevices/labdevices/ando.py\u001b[0m in \u001b[0;36mquery\u001b[0;34m(self, query)\u001b[0m\n\u001b[1;32m     72\u001b[0m     \u001b[0;32mdef\u001b[0m \u001b[0mquery\u001b[0m\u001b[0;34m(\u001b[0m\u001b[0mself\u001b[0m\u001b[0;34m,\u001b[0m \u001b[0mquery\u001b[0m\u001b[0;34m:\u001b[0m \u001b[0mstr\u001b[0m\u001b[0;34m)\u001b[0m \u001b[0;34m->\u001b[0m \u001b[0mstr\u001b[0m\u001b[0;34m:\u001b[0m\u001b[0;34m\u001b[0m\u001b[0;34m\u001b[0m\u001b[0m\n\u001b[1;32m     73\u001b[0m         \u001b[0;34m\"\"\" Query device for information \"\"\"\u001b[0m\u001b[0;34m\u001b[0m\u001b[0;34m\u001b[0m\u001b[0m\n\u001b[0;32m---> 74\u001b[0;31m         \u001b[0mquery\u001b[0m \u001b[0;34m=\u001b[0m \u001b[0mself\u001b[0m\u001b[0;34m.\u001b[0m\u001b[0m_device\u001b[0m\u001b[0;34m.\u001b[0m\u001b[0mquery\u001b[0m\u001b[0;34m(\u001b[0m\u001b[0mquery\u001b[0m\u001b[0;34m)\u001b[0m\u001b[0;34m\u001b[0m\u001b[0;34m\u001b[0m\u001b[0m\n\u001b[0m\u001b[1;32m     75\u001b[0m         \u001b[0mquery\u001b[0m \u001b[0;34m=\u001b[0m \u001b[0mquery\u001b[0m\u001b[0;34m.\u001b[0m\u001b[0mrstrip\u001b[0m\u001b[0;34m(\u001b[0m\u001b[0;34m'\\r\\n'\u001b[0m\u001b[0;34m)\u001b[0m\u001b[0;34m\u001b[0m\u001b[0;34m\u001b[0m\u001b[0m\n\u001b[1;32m     76\u001b[0m         \u001b[0;32mreturn\u001b[0m \u001b[0mquery\u001b[0m\u001b[0;34m\u001b[0m\u001b[0;34m\u001b[0m\u001b[0m\n",
      "\u001b[0;32m~/anaconda3/envs/lab/lib/python3.7/site-packages/prologix_gpib_ethernet-0.1.2-py3.7.egg/plx_gpib_ethernet/plx_gpib_ethernet.py\u001b[0m in \u001b[0;36mquery\u001b[0;34m(self, cmd, buffer_size)\u001b[0m\n\u001b[1;32m     34\u001b[0m     \u001b[0;32mdef\u001b[0m \u001b[0mquery\u001b[0m\u001b[0;34m(\u001b[0m\u001b[0mself\u001b[0m\u001b[0;34m,\u001b[0m \u001b[0mcmd\u001b[0m\u001b[0;34m,\u001b[0m \u001b[0mbuffer_size\u001b[0m\u001b[0;34m=\u001b[0m\u001b[0;36m1024\u001b[0m\u001b[0;34m*\u001b[0m\u001b[0;36m1024\u001b[0m\u001b[0;34m)\u001b[0m\u001b[0;34m:\u001b[0m\u001b[0;34m\u001b[0m\u001b[0;34m\u001b[0m\u001b[0m\n\u001b[1;32m     35\u001b[0m         \u001b[0mself\u001b[0m\u001b[0;34m.\u001b[0m\u001b[0mwrite\u001b[0m\u001b[0;34m(\u001b[0m\u001b[0mcmd\u001b[0m\u001b[0;34m)\u001b[0m\u001b[0;34m\u001b[0m\u001b[0;34m\u001b[0m\u001b[0m\n\u001b[0;32m---> 36\u001b[0;31m         \u001b[0;32mreturn\u001b[0m \u001b[0mself\u001b[0m\u001b[0;34m.\u001b[0m\u001b[0mread\u001b[0m\u001b[0;34m(\u001b[0m\u001b[0mbuffer_size\u001b[0m\u001b[0;34m)\u001b[0m\u001b[0;34m\u001b[0m\u001b[0;34m\u001b[0m\u001b[0m\n\u001b[0m\u001b[1;32m     37\u001b[0m \u001b[0;34m\u001b[0m\u001b[0m\n\u001b[1;32m     38\u001b[0m     \u001b[0;32mdef\u001b[0m \u001b[0m_send\u001b[0m\u001b[0;34m(\u001b[0m\u001b[0mself\u001b[0m\u001b[0;34m,\u001b[0m \u001b[0mvalue\u001b[0m\u001b[0;34m)\u001b[0m\u001b[0;34m:\u001b[0m\u001b[0;34m\u001b[0m\u001b[0;34m\u001b[0m\u001b[0m\n",
      "\u001b[0;32m~/anaconda3/envs/lab/lib/python3.7/site-packages/prologix_gpib_ethernet-0.1.2-py3.7.egg/plx_gpib_ethernet/plx_gpib_ethernet.py\u001b[0m in \u001b[0;36mread\u001b[0;34m(self, num_bytes)\u001b[0m\n\u001b[1;32m     30\u001b[0m     \u001b[0;32mdef\u001b[0m \u001b[0mread\u001b[0m\u001b[0;34m(\u001b[0m\u001b[0mself\u001b[0m\u001b[0;34m,\u001b[0m \u001b[0mnum_bytes\u001b[0m\u001b[0;34m=\u001b[0m\u001b[0;36m1024\u001b[0m\u001b[0;34m)\u001b[0m\u001b[0;34m:\u001b[0m\u001b[0;34m\u001b[0m\u001b[0;34m\u001b[0m\u001b[0m\n\u001b[1;32m     31\u001b[0m         \u001b[0mself\u001b[0m\u001b[0;34m.\u001b[0m\u001b[0m_send\u001b[0m\u001b[0;34m(\u001b[0m\u001b[0;34m'++read eoi'\u001b[0m\u001b[0;34m)\u001b[0m\u001b[0;34m\u001b[0m\u001b[0;34m\u001b[0m\u001b[0m\n\u001b[0;32m---> 32\u001b[0;31m         \u001b[0;32mreturn\u001b[0m \u001b[0mself\u001b[0m\u001b[0;34m.\u001b[0m\u001b[0m_recv\u001b[0m\u001b[0;34m(\u001b[0m\u001b[0mnum_bytes\u001b[0m\u001b[0;34m)\u001b[0m\u001b[0;34m\u001b[0m\u001b[0;34m\u001b[0m\u001b[0m\n\u001b[0m\u001b[1;32m     33\u001b[0m \u001b[0;34m\u001b[0m\u001b[0m\n\u001b[1;32m     34\u001b[0m     \u001b[0;32mdef\u001b[0m \u001b[0mquery\u001b[0m\u001b[0;34m(\u001b[0m\u001b[0mself\u001b[0m\u001b[0;34m,\u001b[0m \u001b[0mcmd\u001b[0m\u001b[0;34m,\u001b[0m \u001b[0mbuffer_size\u001b[0m\u001b[0;34m=\u001b[0m\u001b[0;36m1024\u001b[0m\u001b[0;34m*\u001b[0m\u001b[0;36m1024\u001b[0m\u001b[0;34m)\u001b[0m\u001b[0;34m:\u001b[0m\u001b[0;34m\u001b[0m\u001b[0;34m\u001b[0m\u001b[0m\n",
      "\u001b[0;32m~/anaconda3/envs/lab/lib/python3.7/site-packages/prologix_gpib_ethernet-0.1.2-py3.7.egg/plx_gpib_ethernet/plx_gpib_ethernet.py\u001b[0m in \u001b[0;36m_recv\u001b[0;34m(self, byte_num)\u001b[0m\n\u001b[1;32m     42\u001b[0m     \u001b[0;32mdef\u001b[0m \u001b[0m_recv\u001b[0m\u001b[0;34m(\u001b[0m\u001b[0mself\u001b[0m\u001b[0;34m,\u001b[0m \u001b[0mbyte_num\u001b[0m\u001b[0;34m)\u001b[0m\u001b[0;34m:\u001b[0m\u001b[0;34m\u001b[0m\u001b[0;34m\u001b[0m\u001b[0m\n\u001b[1;32m     43\u001b[0m         \u001b[0mvalue\u001b[0m \u001b[0;34m=\u001b[0m \u001b[0mself\u001b[0m\u001b[0;34m.\u001b[0m\u001b[0msocket\u001b[0m\u001b[0;34m.\u001b[0m\u001b[0mrecv\u001b[0m\u001b[0;34m(\u001b[0m\u001b[0mbyte_num\u001b[0m\u001b[0;34m)\u001b[0m\u001b[0;34m\u001b[0m\u001b[0;34m\u001b[0m\u001b[0m\n\u001b[0;32m---> 44\u001b[0;31m         \u001b[0;32mreturn\u001b[0m \u001b[0mvalue\u001b[0m\u001b[0;34m.\u001b[0m\u001b[0mdecode\u001b[0m\u001b[0;34m(\u001b[0m\u001b[0;34m'ascii'\u001b[0m\u001b[0;34m)\u001b[0m\u001b[0;34m\u001b[0m\u001b[0;34m\u001b[0m\u001b[0m\n\u001b[0m\u001b[1;32m     45\u001b[0m \u001b[0;34m\u001b[0m\u001b[0m\n\u001b[1;32m     46\u001b[0m     \u001b[0;32mdef\u001b[0m \u001b[0m_setup\u001b[0m\u001b[0;34m(\u001b[0m\u001b[0mself\u001b[0m\u001b[0;34m)\u001b[0m\u001b[0;34m:\u001b[0m\u001b[0;34m\u001b[0m\u001b[0;34m\u001b[0m\u001b[0m\n",
      "\u001b[0;31mUnicodeDecodeError\u001b[0m: 'ascii' codec can't decode byte 0xff in position 30: ordinal not in range(128)"
     ]
    }
   ],
   "source": [
    "device.initialize()"
   ]
  },
  {
   "cell_type": "code",
   "execution_count": 24,
   "metadata": {},
   "outputs": [],
   "source": [
    "device.close()"
   ]
  },
  {
   "cell_type": "code",
   "execution_count": 21,
   "metadata": {},
   "outputs": [],
   "source": [
    "x = list(device.get_x_data())\n",
    "y = list(device.get_y_data())"
   ]
  },
  {
   "cell_type": "code",
   "execution_count": null,
   "metadata": {},
   "outputs": [],
   "source": [
    "with open(ando_wave_form.txt, 'w+') as f:\n",
    "    fo\n",
    "    f.write(x)"
   ]
  },
  {
   "cell_type": "code",
   "execution_count": 23,
   "metadata": {},
   "outputs": [
    {
     "data": {
      "text/plain": [
       "'  21, 400.000, 401.300, 402.600, 403.900, 405.200, 406.500, 407.800, 409.100, 410.400, 411.700, 413.000, 414.300, 415.600, 416.900, 418.200, 419.500, 420.800, 422.100, 423.400, 424.700, 426.000\\r\\n'"
      ]
     },
     "execution_count": 23,
     "metadata": {},
     "output_type": "execute_result"
    }
   ],
   "source": [
    "device._device.query('WDATA R1-R21')"
   ]
  },
  {
   "cell_type": "code",
   "execution_count": 13,
   "metadata": {},
   "outputs": [
    {
     "data": {
      "text/plain": [
       "1050.0"
      ]
     },
     "execution_count": 13,
     "metadata": {},
     "output_type": "execute_result"
    }
   ],
   "source": [
    "device.center"
   ]
  },
  {
   "cell_type": "markdown",
   "metadata": {},
   "source": [
    "## Allied Vision"
   ]
  },
  {
   "cell_type": "code",
   "execution_count": 1,
   "metadata": {},
   "outputs": [],
   "source": [
    "from labdevices import allied_vision"
   ]
  },
  {
   "cell_type": "code",
   "execution_count": 2,
   "metadata": {},
   "outputs": [
    {
     "data": {
      "text/plain": [
       "[]"
      ]
     },
     "execution_count": 2,
     "metadata": {},
     "output_type": "execute_result"
    }
   ],
   "source": [
    "allied_vision.get_available_cameras()"
   ]
  },
  {
   "cell_type": "code",
   "execution_count": 2,
   "metadata": {},
   "outputs": [],
   "source": [
    "ccd = allied_vision.MantaDummy(device_id=\"DEV_000F314E6DE1\")"
   ]
  },
  {
   "cell_type": "code",
   "execution_count": 3,
   "metadata": {},
   "outputs": [
    {
     "name": "stdout",
     "output_type": "stream",
     "text": [
      "Connected to camera : DEV_000F314E6DE1\n"
     ]
    }
   ],
   "source": [
    "ccd.initialize()"
   ]
  },
  {
   "cell_type": "code",
   "execution_count": 26,
   "metadata": {},
   "outputs": [],
   "source": [
    "ccd.close()"
   ]
  },
  {
   "cell_type": "code",
   "execution_count": 6,
   "metadata": {},
   "outputs": [
    {
     "data": {
      "text/plain": [
       "'Continuous'"
      ]
     },
     "execution_count": 6,
     "metadata": {},
     "output_type": "execute_result"
    }
   ],
   "source": [
    "ccd.acquisition_mode"
   ]
  },
  {
   "cell_type": "code",
   "execution_count": 6,
   "metadata": {},
   "outputs": [
    {
     "ename": "AttributeError",
     "evalue": "'MantaDummy' object has no attribute 'camera'",
     "output_type": "error",
     "traceback": [
      "\u001b[0;31m---------------------------------------------------------------------------\u001b[0m",
      "\u001b[0;31mAttributeError\u001b[0m                            Traceback (most recent call last)",
      "\u001b[0;32m<ipython-input-6-98711e85c8d3>\u001b[0m in \u001b[0;36m<module>\u001b[0;34m\u001b[0m\n\u001b[0;32m----> 1\u001b[0;31m \u001b[0;32mfor\u001b[0m \u001b[0mi\u001b[0m \u001b[0;32min\u001b[0m \u001b[0mccd\u001b[0m\u001b[0;34m.\u001b[0m\u001b[0mcamera\u001b[0m\u001b[0;34m.\u001b[0m\u001b[0mfeature_names\u001b[0m\u001b[0;34m(\u001b[0m\u001b[0;34m)\u001b[0m\u001b[0;34m:\u001b[0m\u001b[0;34m\u001b[0m\u001b[0;34m\u001b[0m\u001b[0m\n\u001b[0m\u001b[1;32m      2\u001b[0m     \u001b[0;32mif\u001b[0m \u001b[0;34m\"Packet\"\u001b[0m \u001b[0;32min\u001b[0m \u001b[0mi\u001b[0m\u001b[0;34m:\u001b[0m\u001b[0;34m\u001b[0m\u001b[0;34m\u001b[0m\u001b[0m\n\u001b[1;32m      3\u001b[0m         \u001b[0mprint\u001b[0m\u001b[0;34m(\u001b[0m\u001b[0mi\u001b[0m\u001b[0;34m)\u001b[0m\u001b[0;34m\u001b[0m\u001b[0;34m\u001b[0m\u001b[0m\n",
      "\u001b[0;31mAttributeError\u001b[0m: 'MantaDummy' object has no attribute 'camera'"
     ]
    }
   ],
   "source": [
    "for i in ccd.camera.feature_names():\n",
    "    if \"Packet\" in i:\n",
    "        print(i)"
   ]
  },
  {
   "cell_type": "code",
   "execution_count": null,
   "metadata": {
    "scrolled": true
   },
   "outputs": [],
   "source": [
    "ccd.camera.feature('GVSPAdjustPacketSize').info"
   ]
  },
  {
   "cell_type": "code",
   "execution_count": 24,
   "metadata": {},
   "outputs": [],
   "source": [
    "pic = ccd.take_single_img()"
   ]
  },
  {
   "cell_type": "code",
   "execution_count": 28,
   "metadata": {},
   "outputs": [],
   "source": [
    "import pickle"
   ]
  },
  {
   "cell_type": "code",
   "execution_count": 29,
   "metadata": {},
   "outputs": [],
   "source": [
    "with open('allied_vision_frame.pickle', 'wb+') as f:\n",
    "    pickle.dump(pic, f)"
   ]
  },
  {
   "cell_type": "markdown",
   "metadata": {},
   "source": [
    "# Newport"
   ]
  },
  {
   "cell_type": "markdown",
   "metadata": {},
   "source": [
    "## SMC100"
   ]
  },
  {
   "cell_type": "code",
   "execution_count": 1,
   "metadata": {},
   "outputs": [],
   "source": [
    "from labdevices import newport"
   ]
  },
  {
   "cell_type": "code",
   "execution_count": 2,
   "metadata": {},
   "outputs": [],
   "source": [
    "device = newport.SMC100Dummy('/dev/ttyUSB0')"
   ]
  },
  {
   "cell_type": "code",
   "execution_count": 3,
   "metadata": {},
   "outputs": [
    {
     "name": "stdout",
     "output_type": "stream",
     "text": [
      "1ID?\n",
      "1IDTRA25CC_PN:B183906_UD:18114\n",
      "Connected to Newport stage 1: TRA25CC_PN:B183906_UD:18114\n"
     ]
    }
   ],
   "source": [
    "device.initialize()"
   ]
  },
  {
   "cell_type": "code",
   "execution_count": 11,
   "metadata": {},
   "outputs": [],
   "source": [
    "device.close()"
   ]
  },
  {
   "cell_type": "code",
   "execution_count": 4,
   "metadata": {},
   "outputs": [
    {
     "name": "stdout",
     "output_type": "stream",
     "text": [
      "1ID?\n",
      "1IDTRA25CC_PN:B183906_UD:18114\n"
     ]
    },
    {
     "data": {
      "text/plain": [
       "'TRA25CC_PN:B183906_UD:18114'"
      ]
     },
     "execution_count": 4,
     "metadata": {},
     "output_type": "execute_result"
    }
   ],
   "source": [
    "device.idn"
   ]
  },
  {
   "cell_type": "code",
   "execution_count": 5,
   "metadata": {},
   "outputs": [
    {
     "name": "stdout",
     "output_type": "stream",
     "text": [
      "1TS\n",
      "1TS01000A\n"
     ]
    },
    {
     "data": {
      "text/plain": [
       "('0100', 10)"
      ]
     },
     "execution_count": 5,
     "metadata": {},
     "output_type": "execute_result"
    }
   ],
   "source": [
    "device.error_and_controller_status()"
   ]
  },
  {
   "cell_type": "code",
   "execution_count": 6,
   "metadata": {
    "scrolled": true
   },
   "outputs": [
    {
     "name": "stdout",
     "output_type": "stream",
     "text": [
      "1TE\n",
      "1TE@\n"
     ]
    },
    {
     "data": {
      "text/plain": [
       "'@'"
      ]
     },
     "execution_count": 6,
     "metadata": {},
     "output_type": "execute_result"
    }
   ],
   "source": [
    "device.get_last_command_error()"
   ]
  },
  {
   "cell_type": "code",
   "execution_count": 7,
   "metadata": {},
   "outputs": [
    {
     "name": "stdout",
     "output_type": "stream",
     "text": [
      "1PA?\n",
      "1PA0\n"
     ]
    },
    {
     "data": {
      "text/plain": [
       "'0'"
      ]
     },
     "execution_count": 7,
     "metadata": {},
     "output_type": "execute_result"
    }
   ],
   "source": [
    "device.position"
   ]
  },
  {
   "cell_type": "code",
   "execution_count": 8,
   "metadata": {},
   "outputs": [
    {
     "name": "stdout",
     "output_type": "stream",
     "text": [
      "1VA?\n",
      "1VA0.4\n"
     ]
    },
    {
     "data": {
      "text/plain": [
       "'0.4'"
      ]
     },
     "execution_count": 8,
     "metadata": {},
     "output_type": "execute_result"
    }
   ],
   "source": [
    "device.speed"
   ]
  },
  {
   "cell_type": "code",
   "execution_count": 9,
   "metadata": {},
   "outputs": [
    {
     "name": "stdout",
     "output_type": "stream",
     "text": [
      "1AC?\n",
      "1AC1.6\n"
     ]
    },
    {
     "data": {
      "text/plain": [
       "'1.6'"
      ]
     },
     "execution_count": 9,
     "metadata": {},
     "output_type": "execute_result"
    }
   ],
   "source": [
    "device.acceleration"
   ]
  },
  {
   "cell_type": "code",
   "execution_count": null,
   "metadata": {},
   "outputs": [],
   "source": []
  },
  {
   "cell_type": "markdown",
   "metadata": {},
   "source": [
    "## Thorlabs devices\n",
    "Like e.g. the temperature sensor"
   ]
  },
  {
   "cell_type": "code",
   "execution_count": 1,
   "metadata": {},
   "outputs": [],
   "source": [
    "from labdevices import thorlabs"
   ]
  },
  {
   "cell_type": "code",
   "execution_count": 5,
   "metadata": {},
   "outputs": [],
   "source": [
    "sensor = thorlabs.TSP01(resources[1])"
   ]
  },
  {
   "cell_type": "code",
   "execution_count": 6,
   "metadata": {},
   "outputs": [
    {
     "name": "stdout",
     "output_type": "stream",
     "text": [
      "Connected to Thorlabs,TSP01,M00416749,1.2.0.\n"
     ]
    }
   ],
   "source": [
    "sensor.initialize()"
   ]
  },
  {
   "cell_type": "code",
   "execution_count": 14,
   "metadata": {},
   "outputs": [],
   "source": [
    "sensor.close()"
   ]
  },
  {
   "cell_type": "code",
   "execution_count": 7,
   "metadata": {},
   "outputs": [],
   "source": [
    "sensor.write('*CLS')"
   ]
  },
  {
   "cell_type": "code",
   "execution_count": 13,
   "metadata": {},
   "outputs": [
    {
     "name": "stdout",
     "output_type": "stream",
     "text": [
      ":SENSe4:TEMPerature:DATA?\n",
      "[21.43771]\n"
     ]
    },
    {
     "data": {
      "text/plain": [
       "float"
      ]
     },
     "execution_count": 13,
     "metadata": {},
     "output_type": "execute_result"
    }
   ],
   "source": [
    "type(sensor.temperature_probe2())"
   ]
  },
  {
   "cell_type": "markdown",
   "metadata": {},
   "source": [
    "## Pfeiffer Vacuum devices\n",
    "Like vacuum gauge controllers"
   ]
  },
  {
   "cell_type": "code",
   "execution_count": 1,
   "metadata": {},
   "outputs": [],
   "source": [
    "from labdevices import pfeiffer_vacuum"
   ]
  },
  {
   "cell_type": "code",
   "execution_count": 2,
   "metadata": {},
   "outputs": [],
   "source": [
    "sensor = pfeiffer_vacuum.TPG362Dummy()"
   ]
  },
  {
   "cell_type": "code",
   "execution_count": 3,
   "metadata": {
    "scrolled": true
   },
   "outputs": [],
   "source": [
    "sensor.initialize()"
   ]
  },
  {
   "cell_type": "code",
   "execution_count": 4,
   "metadata": {},
   "outputs": [
    {
     "data": {
      "text/plain": [
       "'\\x06'"
      ]
     },
     "execution_count": 4,
     "metadata": {},
     "output_type": "execute_result"
    }
   ],
   "source": [
    "sensor._device.query('AYT')"
   ]
  },
  {
   "cell_type": "code",
   "execution_count": 5,
   "metadata": {},
   "outputs": [
    {
     "name": "stdout",
     "output_type": "stream",
     "text": [
      "sending: AYT\n",
      "recv \u0006\n",
      "\u0005\n",
      "receiving:  TPG362,PTG28290,44998061,010300,010100\n"
     ]
    },
    {
     "data": {
      "text/plain": [
       "{'Type': 'TPG362',\n",
       " 'Model No.': 'PTG28290',\n",
       " 'Serial No.': '44998061',\n",
       " 'Firmware version': '010300',\n",
       " 'Hardware version': '010100'}"
      ]
     },
     "execution_count": 5,
     "metadata": {},
     "output_type": "execute_result"
    }
   ],
   "source": [
    "sensor.idn"
   ]
  },
  {
   "cell_type": "code",
   "execution_count": 6,
   "metadata": {},
   "outputs": [
    {
     "name": "stdout",
     "output_type": "stream",
     "text": [
      "sending: PR2\n",
      "recv \u0006\n",
      "\u0005\n",
      "receiving:  5,+0.0000E+00\n"
     ]
    },
    {
     "data": {
      "text/plain": [
       "(0.0, (5, 'No sensor (output: 5,2.0000E-2 [mbar])'))"
      ]
     },
     "execution_count": 6,
     "metadata": {},
     "output_type": "execute_result"
    }
   ],
   "source": [
    "sensor.get_gauge_pressure(2)"
   ]
  },
  {
   "cell_type": "code",
   "execution_count": 7,
   "metadata": {},
   "outputs": [
    {
     "data": {
      "text/plain": [
       "23"
      ]
     },
     "execution_count": 7,
     "metadata": {},
     "output_type": "execute_result"
    }
   ],
   "source": [
    "sensor.temperature"
   ]
  },
  {
   "cell_type": "code",
   "execution_count": null,
   "metadata": {},
   "outputs": [],
   "source": [
    "sensor.close()"
   ]
  },
  {
   "cell_type": "code",
   "execution_count": 7,
   "metadata": {},
   "outputs": [
    {
     "name": "stdout",
     "output_type": "stream",
     "text": [
      "sending: UNI\n",
      "recv \u0006\n",
      "\u0005\n",
      "receiving:  4\n"
     ]
    },
    {
     "data": {
      "text/plain": [
       "'hPascal'"
      ]
     },
     "execution_count": 7,
     "metadata": {},
     "output_type": "execute_result"
    }
   ],
   "source": [
    "sensor.get_pressure_unit()"
   ]
  },
  {
   "cell_type": "markdown",
   "metadata": {},
   "source": [
    "### Trying to talk to Pfeiffer gauge controllers via Ethernet"
   ]
  },
  {
   "cell_type": "code",
   "execution_count": null,
   "metadata": {},
   "outputs": [],
   "source": [
    "import pyvisa"
   ]
  },
  {
   "cell_type": "code",
   "execution_count": null,
   "metadata": {},
   "outputs": [],
   "source": [
    "rm = pyvisa.ResourceManager()"
   ]
  },
  {
   "cell_type": "code",
   "execution_count": null,
   "metadata": {},
   "outputs": [],
   "source": [
    "rm.list_resources()"
   ]
  },
  {
   "cell_type": "code",
   "execution_count": null,
   "metadata": {},
   "outputs": [],
   "source": [
    "devi = rm.open_resource(\n",
    "    'TCPIP::192.168.1.10::7776::SOCKET',\n",
    "    #timeout=100,\n",
    "    #encoding='ascii',\n",
    "    #parity=pyvisa.constants.Parity.none,\n",
    "    #baud_rate=9600,\n",
    "    #data_bits=8,\n",
    "    #stop_bits=pyvisa.constants.StopBits.one,\n",
    "    #flow_control=pyvisa.constants.VI_ASRL_FLOW_NONE,\n",
    "    write_termination='\\r',\n",
    "    #read_termination='\\r\\n' \n",
    ")"
   ]
  },
  {
   "cell_type": "code",
   "execution_count": null,
   "metadata": {},
   "outputs": [],
   "source": [
    "devi.close()"
   ]
  },
  {
   "cell_type": "code",
   "execution_count": null,
   "metadata": {
    "scrolled": true
   },
   "outputs": [],
   "source": [
    "devi.query('MV')"
   ]
  },
  {
   "cell_type": "markdown",
   "metadata": {},
   "source": [
    "## Applied Motion Products\n",
    "For the control of e.g. the stepper motors of the rotary feedthroughs in the spectrometer chamber."
   ]
  },
  {
   "cell_type": "code",
   "execution_count": 1,
   "metadata": {},
   "outputs": [],
   "source": [
    "from labdevices import applied_motion_products"
   ]
  },
  {
   "cell_type": "code",
   "execution_count": 2,
   "metadata": {},
   "outputs": [],
   "source": [
    "# Available IP addresses are 10.0.0.102 and 10.0.0.103. See also the IP table on the wiki.\n",
    "device = applied_motion_products.STF03D('10.0.0.103')"
   ]
  },
  {
   "cell_type": "code",
   "execution_count": 3,
   "metadata": {},
   "outputs": [
    {
     "name": "stdout",
     "output_type": "stream",
     "text": [
      "Connected to rotary feedthrough with IP=10.0.0.103.\n"
     ]
    }
   ],
   "source": [
    "device.initialize()"
   ]
  },
  {
   "cell_type": "code",
   "execution_count": 6,
   "metadata": {},
   "outputs": [
    {
     "name": "stdout",
     "output_type": "stream",
     "text": [
      "Closed rotary feedthrough with IP=10.0.0.103.\n"
     ]
    }
   ],
   "source": [
    "device.close()"
   ]
  },
  {
   "cell_type": "code",
   "execution_count": 4,
   "metadata": {},
   "outputs": [
    {
     "data": {
      "text/plain": [
       "'100H179M'"
      ]
     },
     "execution_count": 4,
     "metadata": {},
     "output_type": "execute_result"
    }
   ],
   "source": [
    "device.query('MV')"
   ]
  },
  {
   "cell_type": "code",
   "execution_count": 5,
   "metadata": {},
   "outputs": [],
   "source": [
    "device.set_calibration(360/90)"
   ]
  },
  {
   "cell_type": "code",
   "execution_count": 6,
   "metadata": {},
   "outputs": [
    {
     "data": {
      "text/plain": [
       "4.0"
      ]
     },
     "execution_count": 6,
     "metadata": {},
     "output_type": "execute_result"
    }
   ],
   "source": [
    "device._get_future_movement_value()"
   ]
  },
  {
   "cell_type": "code",
   "execution_count": null,
   "metadata": {},
   "outputs": [],
   "source": [
    "accel = ''\n",
    "device.deceleration(accel)\n",
    "device.acceleration(accel)"
   ]
  },
  {
   "cell_type": "code",
   "execution_count": 7,
   "metadata": {},
   "outputs": [
    {
     "data": {
      "text/plain": [
       "10.0"
      ]
     },
     "execution_count": 7,
     "metadata": {},
     "output_type": "execute_result"
    }
   ],
   "source": [
    "device.speed"
   ]
  },
  {
   "cell_type": "code",
   "execution_count": 8,
   "metadata": {},
   "outputs": [
    {
     "data": {
      "text/plain": [
       "0.6"
      ]
     },
     "execution_count": 8,
     "metadata": {},
     "output_type": "execute_result"
    }
   ],
   "source": [
    "device.idle_current"
   ]
  },
  {
   "cell_type": "code",
   "execution_count": null,
   "metadata": {},
   "outputs": [],
   "source": [
    "device.move_relative(40)"
   ]
  },
  {
   "cell_type": "code",
   "execution_count": 9,
   "metadata": {},
   "outputs": [
    {
     "data": {
      "text/plain": [
       "8"
      ]
     },
     "execution_count": 9,
     "metadata": {},
     "output_type": "execute_result"
    }
   ],
   "source": [
    "device.microstep"
   ]
  },
  {
   "cell_type": "markdown",
   "metadata": {},
   "source": [
    "## Rohde & Schwarz\n",
    "\n",
    "### Spectrum Analyzer"
   ]
  },
  {
   "cell_type": "code",
   "execution_count": 1,
   "metadata": {},
   "outputs": [],
   "source": [
    "from labdevices import rohde_schwarz\n",
    "device = rohde_schwarz.FPC1000('10.0.0.91')\n",
    "#device = rohde_schwarz.FPC1000(resources[1])"
   ]
  },
  {
   "cell_type": "code",
   "execution_count": 22,
   "metadata": {
    "scrolled": false
   },
   "outputs": [
    {
     "name": "stdout",
     "output_type": "stream",
     "text": [
      "Connected to:\n",
      "Rohde&Schwarz,FPC1000,1328.6660K02/102742,V1.50\n",
      "\n"
     ]
    }
   ],
   "source": [
    "device.initialize()"
   ]
  },
  {
   "cell_type": "code",
   "execution_count": 19,
   "metadata": {},
   "outputs": [],
   "source": [
    "device.write(\"INITiate:IMMediate;*WAI\")"
   ]
  },
  {
   "cell_type": "code",
   "execution_count": 24,
   "metadata": {},
   "outputs": [],
   "source": [
    "result = device.query('TRACe:DATA? TRACE1')"
   ]
  },
  {
   "cell_type": "code",
   "execution_count": 20,
   "metadata": {},
   "outputs": [
    {
     "data": {
      "text/plain": [
       "numpy.ndarray"
      ]
     },
     "execution_count": 20,
     "metadata": {},
     "output_type": "execute_result"
    }
   ],
   "source": [
    "type(result[0])"
   ]
  },
  {
   "cell_type": "code",
   "execution_count": 25,
   "metadata": {},
   "outputs": [
    {
     "name": "stdout",
     "output_type": "stream",
     "text": [
      "Error closing VISA link: socket.timeout: The instrument seems to have stopped responding.\n"
     ]
    }
   ],
   "source": [
    "device.close()"
   ]
  },
  {
   "cell_type": "code",
   "execution_count": 8,
   "metadata": {},
   "outputs": [],
   "source": [
    "# Acquire the trace and save to file.\n",
    "# Get trace sometimes times out. I don't know why... Any help is appreciated.\n",
    "x, y = device.get_trace()\n",
    "np.savetxt('test.txt', np.column_stack([x,y])) "
   ]
  },
  {
   "cell_type": "code",
   "execution_count": 6,
   "metadata": {},
   "outputs": [
    {
     "data": {
      "text/plain": [
       "[(-410, 'Query interrupted'),\n",
       " (-410, 'Query interrupted'),\n",
       " (-410, 'Query interrupted')]"
      ]
     },
     "execution_count": 6,
     "metadata": {},
     "output_type": "execute_result"
    }
   ],
   "source": [
    "device.get_system_alarm()"
   ]
  },
  {
   "cell_type": "code",
   "execution_count": 7,
   "metadata": {},
   "outputs": [
    {
     "data": {
      "text/plain": [
       "'Rohde&Schwarz,FPC1000,1328.6660K02/102749,V1.50'"
      ]
     },
     "execution_count": 7,
     "metadata": {},
     "output_type": "execute_result"
    }
   ],
   "source": [
    "device.idn"
   ]
  },
  {
   "cell_type": "markdown",
   "metadata": {},
   "source": [
    "### Oscilloscope"
   ]
  },
  {
   "cell_type": "code",
   "execution_count": 1,
   "metadata": {},
   "outputs": [],
   "source": [
    "from labdevices import rohde_schwarz\n",
    "device = rohde_schwarz.Oscilloscope('10.0.0.81')"
   ]
  },
  {
   "cell_type": "code",
   "execution_count": 2,
   "metadata": {},
   "outputs": [
    {
     "name": "stdout",
     "output_type": "stream",
     "text": [
      "Connected to:\n",
      "Rohde&Schwarz,RTB2004,1333.1005k04/111287,02.202\n"
     ]
    }
   ],
   "source": [
    "device.initialize()"
   ]
  },
  {
   "cell_type": "code",
   "execution_count": 29,
   "metadata": {},
   "outputs": [],
   "source": [
    "image = device.get_screenshot()"
   ]
  },
  {
   "cell_type": "code",
   "execution_count": 30,
   "metadata": {},
   "outputs": [],
   "source": [
    "with open('screen.png', 'wb+') as f:\n",
    "    f.write(image)"
   ]
  },
  {
   "cell_type": "code",
   "execution_count": 3,
   "metadata": {},
   "outputs": [
    {
     "ename": "VisaIOError",
     "evalue": "VI_ERROR_TMO (-1073807339): Timeout expired before operation completed.",
     "output_type": "error",
     "traceback": [
      "\u001b[0;31m---------------------------------------------------------------------------\u001b[0m",
      "\u001b[0;31mVisaIOError\u001b[0m                               Traceback (most recent call last)",
      "\u001b[0;32m<ipython-input-3-f9da5c752b88>\u001b[0m in \u001b[0;36m<module>\u001b[0;34m\u001b[0m\n\u001b[0;32m----> 1\u001b[0;31m \u001b[0mdevice\u001b[0m\u001b[0;34m.\u001b[0m\u001b[0mget_trace\u001b[0m\u001b[0;34m(\u001b[0m\u001b[0mchannel\u001b[0m\u001b[0;34m=\u001b[0m\u001b[0;36m1\u001b[0m\u001b[0;34m)\u001b[0m\u001b[0;34m\u001b[0m\u001b[0;34m\u001b[0m\u001b[0m\n\u001b[0m",
      "\u001b[0;32m~/python/labdevices/labdevices/rohde_schwarz.py\u001b[0m in \u001b[0;36mget_trace\u001b[0;34m(self, channel)\u001b[0m\n\u001b[1;32m    199\u001b[0m         \u001b[0mself\u001b[0m\u001b[0;34m.\u001b[0m\u001b[0mwrite\u001b[0m\u001b[0;34m(\u001b[0m\u001b[0;34mf'CHANnel{channel}:SINGle'\u001b[0m\u001b[0;34m)\u001b[0m\u001b[0;34m\u001b[0m\u001b[0;34m\u001b[0m\u001b[0m\n\u001b[1;32m    200\u001b[0m         \u001b[0;31m# Get trace data\u001b[0m\u001b[0;34m\u001b[0m\u001b[0;34m\u001b[0m\u001b[0;34m\u001b[0m\u001b[0m\n\u001b[0;32m--> 201\u001b[0;31m         \u001b[0mvoltage\u001b[0m \u001b[0;34m=\u001b[0m \u001b[0mself\u001b[0m\u001b[0;34m.\u001b[0m\u001b[0mquery\u001b[0m\u001b[0;34m(\u001b[0m\u001b[0;34mf'FORMat ASC; CHANnel{channel}:DATA?'\u001b[0m\u001b[0;34m)\u001b[0m\u001b[0;34m.\u001b[0m\u001b[0msplit\u001b[0m\u001b[0;34m(\u001b[0m\u001b[0;34m','\u001b[0m\u001b[0;34m)\u001b[0m\u001b[0;34m\u001b[0m\u001b[0;34m\u001b[0m\u001b[0m\n\u001b[0m\u001b[1;32m    202\u001b[0m         \u001b[0mvoltage\u001b[0m \u001b[0;34m=\u001b[0m \u001b[0mnp\u001b[0m\u001b[0;34m.\u001b[0m\u001b[0masarray\u001b[0m\u001b[0;34m(\u001b[0m\u001b[0mvoltage\u001b[0m\u001b[0;34m)\u001b[0m\u001b[0;34m.\u001b[0m\u001b[0mastype\u001b[0m\u001b[0;34m(\u001b[0m\u001b[0mnp\u001b[0m\u001b[0;34m.\u001b[0m\u001b[0mfloat\u001b[0m\u001b[0;34m)\u001b[0m\u001b[0;34m\u001b[0m\u001b[0;34m\u001b[0m\u001b[0m\n\u001b[1;32m    203\u001b[0m \u001b[0;34m\u001b[0m\u001b[0m\n",
      "\u001b[0;32m~/python/labdevices/labdevices/rohde_schwarz.py\u001b[0m in \u001b[0;36mquery\u001b[0;34m(self, cmd)\u001b[0m\n\u001b[1;32m    141\u001b[0m         \u001b[0;31m# Strip off a few characters that happen to be there\u001b[0m\u001b[0;34m\u001b[0m\u001b[0;34m\u001b[0m\u001b[0;34m\u001b[0m\u001b[0m\n\u001b[1;32m    142\u001b[0m         \u001b[0;31m# via USB connection... not sure why.\u001b[0m\u001b[0;34m\u001b[0m\u001b[0;34m\u001b[0m\u001b[0;34m\u001b[0m\u001b[0m\n\u001b[0;32m--> 143\u001b[0;31m         \u001b[0;32mreturn\u001b[0m \u001b[0msuper\u001b[0m\u001b[0;34m(\u001b[0m\u001b[0;34m)\u001b[0m\u001b[0;34m.\u001b[0m\u001b[0mquery\u001b[0m\u001b[0;34m(\u001b[0m\u001b[0mcmd\u001b[0m\u001b[0;34m)\u001b[0m\u001b[0;34m.\u001b[0m\u001b[0mstrip\u001b[0m\u001b[0;34m(\u001b[0m\u001b[0;34m'\\n\\x00\\x00\\x00'\u001b[0m\u001b[0;34m)\u001b[0m\u001b[0;34m\u001b[0m\u001b[0;34m\u001b[0m\u001b[0m\n\u001b[0m\u001b[1;32m    144\u001b[0m \u001b[0;34m\u001b[0m\u001b[0m\n\u001b[1;32m    145\u001b[0m \u001b[0;34m\u001b[0m\u001b[0m\n",
      "\u001b[0;32m~/python/labdevices/labdevices/rohde_schwarz.py\u001b[0m in \u001b[0;36mquery\u001b[0;34m(self, cmd)\u001b[0m\n\u001b[1;32m     62\u001b[0m     \u001b[0;32mdef\u001b[0m \u001b[0mquery\u001b[0m\u001b[0;34m(\u001b[0m\u001b[0mself\u001b[0m\u001b[0;34m,\u001b[0m \u001b[0mcmd\u001b[0m\u001b[0;34m:\u001b[0m \u001b[0mstr\u001b[0m\u001b[0;34m)\u001b[0m \u001b[0;34m->\u001b[0m \u001b[0mstr\u001b[0m\u001b[0;34m:\u001b[0m\u001b[0;34m\u001b[0m\u001b[0;34m\u001b[0m\u001b[0m\n\u001b[1;32m     63\u001b[0m         \u001b[0;34m\"\"\" Query the device. \"\"\"\u001b[0m\u001b[0;34m\u001b[0m\u001b[0;34m\u001b[0m\u001b[0m\n\u001b[0;32m---> 64\u001b[0;31m         \u001b[0mresponse\u001b[0m \u001b[0;34m=\u001b[0m \u001b[0mself\u001b[0m\u001b[0;34m.\u001b[0m\u001b[0m_device\u001b[0m\u001b[0;34m.\u001b[0m\u001b[0mquery\u001b[0m\u001b[0;34m(\u001b[0m\u001b[0mcmd\u001b[0m\u001b[0;34m)\u001b[0m\u001b[0;34m\u001b[0m\u001b[0;34m\u001b[0m\u001b[0m\n\u001b[0m\u001b[1;32m     65\u001b[0m         \u001b[0;32mreturn\u001b[0m \u001b[0mresponse\u001b[0m\u001b[0;34m\u001b[0m\u001b[0;34m\u001b[0m\u001b[0m\n\u001b[1;32m     66\u001b[0m \u001b[0;34m\u001b[0m\u001b[0m\n",
      "\u001b[0;32m~/anaconda3/envs/lab/lib/python3.7/site-packages/pyvisa/resources/messagebased.py\u001b[0m in \u001b[0;36mquery\u001b[0;34m(self, message, delay)\u001b[0m\n\u001b[1;32m    611\u001b[0m         \u001b[0;32mif\u001b[0m \u001b[0mdelay\u001b[0m \u001b[0;34m>\u001b[0m \u001b[0;36m0.0\u001b[0m\u001b[0;34m:\u001b[0m\u001b[0;34m\u001b[0m\u001b[0;34m\u001b[0m\u001b[0m\n\u001b[1;32m    612\u001b[0m             \u001b[0mtime\u001b[0m\u001b[0;34m.\u001b[0m\u001b[0msleep\u001b[0m\u001b[0;34m(\u001b[0m\u001b[0mdelay\u001b[0m\u001b[0;34m)\u001b[0m\u001b[0;34m\u001b[0m\u001b[0;34m\u001b[0m\u001b[0m\n\u001b[0;32m--> 613\u001b[0;31m         \u001b[0;32mreturn\u001b[0m \u001b[0mself\u001b[0m\u001b[0;34m.\u001b[0m\u001b[0mread\u001b[0m\u001b[0;34m(\u001b[0m\u001b[0;34m)\u001b[0m\u001b[0;34m\u001b[0m\u001b[0;34m\u001b[0m\u001b[0m\n\u001b[0m\u001b[1;32m    614\u001b[0m \u001b[0;34m\u001b[0m\u001b[0m\n\u001b[1;32m    615\u001b[0m     \u001b[0;32mdef\u001b[0m \u001b[0mask\u001b[0m\u001b[0;34m(\u001b[0m\u001b[0mself\u001b[0m\u001b[0;34m,\u001b[0m \u001b[0mmessage\u001b[0m\u001b[0;34m,\u001b[0m \u001b[0mdelay\u001b[0m\u001b[0;34m=\u001b[0m\u001b[0;32mNone\u001b[0m\u001b[0;34m)\u001b[0m\u001b[0;34m:\u001b[0m\u001b[0;34m\u001b[0m\u001b[0;34m\u001b[0m\u001b[0m\n",
      "\u001b[0;32m~/anaconda3/envs/lab/lib/python3.7/site-packages/pyvisa/resources/messagebased.py\u001b[0m in \u001b[0;36mread\u001b[0;34m(self, termination, encoding)\u001b[0m\n\u001b[1;32m    425\u001b[0m         \u001b[0;32mif\u001b[0m \u001b[0mtermination\u001b[0m \u001b[0;32mis\u001b[0m \u001b[0;32mNone\u001b[0m\u001b[0;34m:\u001b[0m\u001b[0;34m\u001b[0m\u001b[0;34m\u001b[0m\u001b[0m\n\u001b[1;32m    426\u001b[0m             \u001b[0mtermination\u001b[0m \u001b[0;34m=\u001b[0m \u001b[0mself\u001b[0m\u001b[0;34m.\u001b[0m\u001b[0m_read_termination\u001b[0m\u001b[0;34m\u001b[0m\u001b[0;34m\u001b[0m\u001b[0m\n\u001b[0;32m--> 427\u001b[0;31m             \u001b[0mmessage\u001b[0m \u001b[0;34m=\u001b[0m \u001b[0mself\u001b[0m\u001b[0;34m.\u001b[0m\u001b[0m_read_raw\u001b[0m\u001b[0;34m(\u001b[0m\u001b[0;34m)\u001b[0m\u001b[0;34m.\u001b[0m\u001b[0mdecode\u001b[0m\u001b[0;34m(\u001b[0m\u001b[0menco\u001b[0m\u001b[0;34m)\u001b[0m\u001b[0;34m\u001b[0m\u001b[0;34m\u001b[0m\u001b[0m\n\u001b[0m\u001b[1;32m    428\u001b[0m         \u001b[0;32melse\u001b[0m\u001b[0;34m:\u001b[0m\u001b[0;34m\u001b[0m\u001b[0;34m\u001b[0m\u001b[0m\n\u001b[1;32m    429\u001b[0m             \u001b[0;32mwith\u001b[0m \u001b[0mself\u001b[0m\u001b[0;34m.\u001b[0m\u001b[0mread_termination_context\u001b[0m\u001b[0;34m(\u001b[0m\u001b[0mtermination\u001b[0m\u001b[0;34m)\u001b[0m\u001b[0;34m:\u001b[0m\u001b[0;34m\u001b[0m\u001b[0;34m\u001b[0m\u001b[0m\n",
      "\u001b[0;32m~/anaconda3/envs/lab/lib/python3.7/site-packages/pyvisa/resources/messagebased.py\u001b[0m in \u001b[0;36m_read_raw\u001b[0;34m(self, size)\u001b[0m\n\u001b[1;32m    398\u001b[0m                     logger.debug('%s - reading %d bytes (last status %r)',\n\u001b[1;32m    399\u001b[0m                                  self._resource_name, size, status)\n\u001b[0;32m--> 400\u001b[0;31m                     \u001b[0mchunk\u001b[0m\u001b[0;34m,\u001b[0m \u001b[0mstatus\u001b[0m \u001b[0;34m=\u001b[0m \u001b[0mself\u001b[0m\u001b[0;34m.\u001b[0m\u001b[0mvisalib\u001b[0m\u001b[0;34m.\u001b[0m\u001b[0mread\u001b[0m\u001b[0;34m(\u001b[0m\u001b[0mself\u001b[0m\u001b[0;34m.\u001b[0m\u001b[0msession\u001b[0m\u001b[0;34m,\u001b[0m \u001b[0msize\u001b[0m\u001b[0;34m)\u001b[0m\u001b[0;34m\u001b[0m\u001b[0;34m\u001b[0m\u001b[0m\n\u001b[0m\u001b[1;32m    401\u001b[0m                     \u001b[0mret\u001b[0m\u001b[0;34m.\u001b[0m\u001b[0mextend\u001b[0m\u001b[0;34m(\u001b[0m\u001b[0mchunk\u001b[0m\u001b[0;34m)\u001b[0m\u001b[0;34m\u001b[0m\u001b[0;34m\u001b[0m\u001b[0m\n\u001b[1;32m    402\u001b[0m             \u001b[0;32mexcept\u001b[0m \u001b[0merrors\u001b[0m\u001b[0;34m.\u001b[0m\u001b[0mVisaIOError\u001b[0m \u001b[0;32mas\u001b[0m \u001b[0me\u001b[0m\u001b[0;34m:\u001b[0m\u001b[0;34m\u001b[0m\u001b[0;34m\u001b[0m\u001b[0m\n",
      "\u001b[0;32m~/anaconda3/envs/lab/lib/python3.7/site-packages/pyvisa-py/highlevel.py\u001b[0m in \u001b[0;36mread\u001b[0;34m(self, session, count)\u001b[0m\n\u001b[1;32m    348\u001b[0m \u001b[0;34m\u001b[0m\u001b[0m\n\u001b[1;32m    349\u001b[0m         \u001b[0;32mif\u001b[0m \u001b[0mret\u001b[0m\u001b[0;34m[\u001b[0m\u001b[0;36m1\u001b[0m\u001b[0;34m]\u001b[0m \u001b[0;34m<\u001b[0m \u001b[0;36m0\u001b[0m\u001b[0;34m:\u001b[0m\u001b[0;34m\u001b[0m\u001b[0;34m\u001b[0m\u001b[0m\n\u001b[0;32m--> 350\u001b[0;31m             \u001b[0;32mraise\u001b[0m \u001b[0merrors\u001b[0m\u001b[0;34m.\u001b[0m\u001b[0mVisaIOError\u001b[0m\u001b[0;34m(\u001b[0m\u001b[0mret\u001b[0m\u001b[0;34m[\u001b[0m\u001b[0;36m1\u001b[0m\u001b[0;34m]\u001b[0m\u001b[0;34m)\u001b[0m\u001b[0;34m\u001b[0m\u001b[0;34m\u001b[0m\u001b[0m\n\u001b[0m\u001b[1;32m    351\u001b[0m \u001b[0;34m\u001b[0m\u001b[0m\n\u001b[1;32m    352\u001b[0m         \u001b[0;32mreturn\u001b[0m \u001b[0mret\u001b[0m\u001b[0;34m\u001b[0m\u001b[0;34m\u001b[0m\u001b[0m\n",
      "\u001b[0;31mVisaIOError\u001b[0m: VI_ERROR_TMO (-1073807339): Timeout expired before operation completed."
     ]
    }
   ],
   "source": [
    "device.get_trace(channel=1)"
   ]
  },
  {
   "cell_type": "code",
   "execution_count": 4,
   "metadata": {},
   "outputs": [],
   "source": [
    "result = device.query('FORMat ASC; CHANnel3:DATA?')"
   ]
  },
  {
   "cell_type": "code",
   "execution_count": 5,
   "metadata": {},
   "outputs": [
    {
     "data": {
      "text/plain": [
       "'-7.36328E-02,-7.36328E-02,-7.36328E-02,-7.36328E-02,-7.36328E-02,-6.38672E-02,-5.41016E-02,-5.41016E-02,-4.43359E-02,-3.45703E-02,-3.45703E-02,-3.45703E-02,-3.45703E-02,-3.45703E-02,-3.45703E-02,-3.45703E-02,-3.45703E-02,-3.45703E-02,-3.45703E-02,-3.45703E-02,-3.45703E-02,-3.45703E-02,-3.45703E-02,-3.45703E-02,-3.45703E-02,-3.45703E-02,-3.45703E-02,-3.45703E-02,-3.45703E-02,-4.43359E-02,-4.43359E-02,-4.43359E-02,-4.43359E-02,-4.43359E-02,-4.43359E-02,-4.43359E-02,-3.45703E-02,-3.45703E-02,-3.45703E-02,-2.48047E-02,-2.48047E-02,-2.48047E-02,-1.50391E-02,-1.50391E-02,-1.50391E-02,-1.50391E-02,-5.27344E-03,-5.27344E-03,-5.27344E-03,-5.27344E-03,-5.27344E-03,4.49219E-03,4.49219E-03,4.49219E-03,4.49219E-03,-5.27344E-03,-5.27344E-03,-1.50391E-02,-1.50391E-02,-2.48047E-02,-3.45703E-02,-4.43359E-02,-5.41016E-02,-5.41016E-02,-6.38672E-02,-6.38672E-02,-6.38672E-02,-6.38672E-02,-6.38672E-02,-5.41016E-02,-5.41016E-02,-4.43359E-02,-3.45703E-02,-2.48047E-02,-2.48047E-02,-1.50391E-02,-1.50391E-02,-1.50391E-02,-1.50391E-02,-1.50391E-02,-1.50391E-02,-1.50391E-02,-2.48047E-02,-2.48047E-02,-3.45703E-02,-3.45703E-02,-3.45703E-02,-4.43359E-02,-4.43359E-02,-4.43359E-02,-4.43359E-02,-4.43359E-02,-4.43359E-02,-4.43359E-02,-4.43359E-02,-4.43359E-02,-4.43359E-02,-4.43359E-02,-4.43359E-02,-4.43359E-02,-4.43359E-02,-4.43359E-02,-5.41016E-02,-5.41016E-02,-5.41016E-02,-5.41016E-02,-5.41016E-02,-5.41016E-02,-5.41016E-02,-4.43359E-02,-4.43359E-02,-4.43359E-02,-3.45703E-02,-2.48047E-02,-2.48047E-02,-2.48047E-02,-2.48047E-02,-2.48047E-02,-2.48047E-02,-2.48047E-02,-3.45703E-02,-4.43359E-02,-5.41016E-02,-5.41016E-02,-6.38672E-02,-7.36328E-02,-7.36328E-02,-7.36328E-02,-7.36328E-02,-7.36328E-02,-6.38672E-02,-5.41016E-02,-4.43359E-02,-4.43359E-02,-3.45703E-02,-2.48047E-02,-2.48047E-02,-2.48047E-02,-2.48047E-02,-2.48047E-02,-2.48047E-02,-2.48047E-02,-3.45703E-02,-3.45703E-02,-3.45703E-02,-3.45703E-02,-3.45703E-02,-3.45703E-02,-2.48047E-02,-2.48047E-02,-2.48047E-02,-2.48047E-02,-2.48047E-02,-2.48047E-02,-2.48047E-02,-3.45703E-02,-3.45703E-02,-4.43359E-02,-4.43359E-02,-4.43359E-02,-4.43359E-02,-4.43359E-02,-4.43359E-02,-3.45703E-02,-3.45703E-02,-2.48047E-02,-2.48047E-02,-1.50391E-02,-1.50391E-02,-1.50391E-02,-1.50391E-02,-1.50391E-02,-2.48047E-02,-2.48047E-02,-3.45703E-02,-4.43359E-02,-4.43359E-02,-4.43359E-02,-5.41016E-02,-5.41016E-02,-4.43359E-02,-4.43359E-02,-4.43359E-02,-3.45703E-02,-3.45703E-02,-3.45703E-02,-2.48047E-02,-2.48047E-02,-2.48047E-02,-2.48047E-02,-2.48047E-02,-2.48047E-02,-2.48047E-02,-2.48047E-02,-2.48047E-02,-3.45703E-02,-3.45703E-02,-3.45703E-02,-3.45703E-02,-4.43359E-02,-4.43359E-02,-4.43359E-02,-5.41016E-02,-5.41016E-02,-5.41016E-02,-5.41016E-02,-5.41016E-02,-5.41016E-02,-5.41016E-02,-5.41016E-02,-4.43359E-02,-3.45703E-02,-3.45703E-02,-2.48047E-02,-2.48047E-02,-1.50391E-02,-1.50391E-02,-1.50391E-02,-1.50391E-02,-1.50391E-02,-2.48047E-02,-2.48047E-02,-3.45703E-02,-3.45703E-02,-4.43359E-02,-5.41016E-02,-5.41016E-02,-5.41016E-02,-6.38672E-02,-6.38672E-02,-5.41016E-02,-5.41016E-02,-5.41016E-02,-5.41016E-02,-4.43359E-02,-4.43359E-02,-3.45703E-02,-3.45703E-02,-2.48047E-02,-2.48047E-02,-1.50391E-02,-1.50391E-02,-5.27344E-03,-5.27344E-03,4.49219E-03,4.49219E-03,4.49219E-03,-5.27344E-03,-5.27344E-03,-1.50391E-02,-1.50391E-02,-2.48047E-02,-3.45703E-02,-4.43359E-02,-5.41016E-02,-6.38672E-02,-7.36328E-02,-8.33984E-02,-8.33984E-02,-8.33984E-02,-8.33984E-02,-8.33984E-02,-7.36328E-02,-6.38672E-02,-5.41016E-02,-4.43359E-02,-3.45703E-02,-2.48047E-02,-1.50391E-02,-1.50391E-02,-1.50391E-02,-1.50391E-02,-1.50391E-02,-2.48047E-02,-3.45703E-02,-4.43359E-02,-5.41016E-02,-6.38672E-02,-7.36328E-02,-7.36328E-02,-8.33984E-02,-8.33984E-02,-8.33984E-02,-8.33984E-02,-8.33984E-02,-8.33984E-02,-7.36328E-02,-7.36328E-02,-6.38672E-02,-6.38672E-02,-5.41016E-02,-5.41016E-02,-5.41016E-02,-4.43359E-02,-4.43359E-02,-4.43359E-02,-4.43359E-02,-4.43359E-02,-4.43359E-02,-3.45703E-02,-3.45703E-02,-2.48047E-02,-2.48047E-02,-1.50391E-02,-1.50391E-02,-1.50391E-02,-1.50391E-02,-1.50391E-02,-1.50391E-02,-1.50391E-02,-2.48047E-02,-2.48047E-02,-3.45703E-02,-4.43359E-02,-4.43359E-02,-4.43359E-02,-4.43359E-02,-4.43359E-02,-4.43359E-02,-4.43359E-02,-3.45703E-02,-2.48047E-02,-2.48047E-02,-1.50391E-02,-1.50391E-02,-1.50391E-02,-1.50391E-02,-1.50391E-02,-2.48047E-02,-3.45703E-02,-4.43359E-02,-5.41016E-02,-6.38672E-02,-7.36328E-02,-7.36328E-02,-8.33984E-02,-8.33984E-02,-8.33984E-02,-8.33984E-02,-7.36328E-02,-7.36328E-02,-6.38672E-02,-6.38672E-02,-5.41016E-02,-5.41016E-02,-5.41016E-02,-5.41016E-02,-5.41016E-02,-6.38672E-02,-6.38672E-02,-6.38672E-02,-7.36328E-02,-7.36328E-02,-7.36328E-02,-7.36328E-02,-7.36328E-02,-6.38672E-02,-6.38672E-02,-5.41016E-02,-5.41016E-02,-4.43359E-02,-4.43359E-02,-3.45703E-02,-3.45703E-02,-3.45703E-02,-3.45703E-02,-3.45703E-02,-3.45703E-02,-3.45703E-02,-3.45703E-02,-3.45703E-02,-3.45703E-02,-3.45703E-02,-3.45703E-02,-4.43359E-02,-4.43359E-02,-4.43359E-02,-4.43359E-02,-5.41016E-02,-5.41016E-02,-5.41016E-02,-6.38672E-02,-6.38672E-02,-6.38672E-02,-6.38672E-02,-6.38672E-02,-6.38672E-02,-5.41016E-02,-5.41016E-02,-5.41016E-02,-4.43359E-02,-4.43359E-02,-4.43359E-02,-4.43359E-02,-4.43359E-02,-4.43359E-02,-4.43359E-02,-4.43359E-02,-4.43359E-02,-4.43359E-02,-4.43359E-02,-4.43359E-02,-4.43359E-02,-4.43359E-02,-4.43359E-02,-4.43359E-02,-4.43359E-02,-4.43359E-02,-4.43359E-02,-4.43359E-02,-5.41016E-02,-5.41016E-02,-6.38672E-02,-6.38672E-02,-6.38672E-02,-6.38672E-02,-6.38672E-02,-6.38672E-02,-5.41016E-02,-5.41016E-02,-4.43359E-02,-3.45703E-02,-3.45703E-02,-2.48047E-02,-2.48047E-02,-2.48047E-02,-2.48047E-02,-3.45703E-02,-3.45703E-02,-4.43359E-02,-4.43359E-02,-5.41016E-02,-5.41016E-02,-5.41016E-02,-5.41016E-02,-6.38672E-02,-5.41016E-02,-5.41016E-02,-5.41016E-02,-5.41016E-02,-5.41016E-02,-5.41016E-02,-5.41016E-02,-5.41016E-02,-5.41016E-02,-5.41016E-02,-5.41016E-02,-5.41016E-02,-5.41016E-02,-5.41016E-02,-5.41016E-02,-4.43359E-02,-4.43359E-02,-4.43359E-02,-4.43359E-02,-4.43359E-02,-4.43359E-02,-4.43359E-02,-4.43359E-02,-5.41016E-02,-5.41016E-02,-5.41016E-02,-5.41016E-02,-4.43359E-02,-4.43359E-02,-3.45703E-02,-3.45703E-02,-2.48047E-02,-2.48047E-02,-1.50391E-02,-1.50391E-02,-1.50391E-02,-1.50391E-02,-1.50391E-02,-2.48047E-02,-3.45703E-02,-4.43359E-02,-4.43359E-02,-5.41016E-02,-6.38672E-02,-6.38672E-02,-6.38672E-02,-6.38672E-02,-5.41016E-02,-5.41016E-02,-4.43359E-02,-4.43359E-02,-3.45703E-02,-3.45703E-02,-3.45703E-02,-3.45703E-02,-4.43359E-02,-4.43359E-02,-5.41016E-02,-6.38672E-02,-6.38672E-02,-7.36328E-02,-8.33984E-02,-8.33984E-02,-8.33984E-02,-8.33984E-02,-8.33984E-02,-8.33984E-02,-7.36328E-02,-7.36328E-02,-7.36328E-02,-7.36328E-02,-6.38672E-02,-6.38672E-02,-6.38672E-02,-6.38672E-02,-6.38672E-02,-6.38672E-02,-6.38672E-02,-6.38672E-02,-5.41016E-02,-5.41016E-02,-5.41016E-02,-4.43359E-02,-4.43359E-02,-4.43359E-02,-4.43359E-02,-4.43359E-02,-4.43359E-02,-5.41016E-02,-5.41016E-02,-6.38672E-02,-6.38672E-02,-7.36328E-02,-8.33984E-02,-8.33984E-02,-8.33984E-02,-9.31641E-02,-9.31641E-02,-9.31641E-02,-9.31641E-02,-9.31641E-02,-9.31641E-02,-8.33984E-02,-8.33984E-02,-7.36328E-02,-7.36328E-02,-6.38672E-02,-5.41016E-02,-4.43359E-02,-3.45703E-02,-2.48047E-02,-2.48047E-02,-1.50391E-02,-1.50391E-02,-1.50391E-02,-1.50391E-02,-1.50391E-02,-1.50391E-02,-2.48047E-02,-2.48047E-02,-3.45703E-02,-3.45703E-02,-3.45703E-02,-3.45703E-02,-3.45703E-02,-3.45703E-02,-2.48047E-02,-1.50391E-02,-1.50391E-02,-5.27344E-03,-5.27344E-03,-5.27344E-03,-5.27344E-03,-1.50391E-02,-1.50391E-02,-2.48047E-02,-3.45703E-02,-4.43359E-02,-5.41016E-02,-6.38672E-02,-6.38672E-02,-6.38672E-02,-6.38672E-02,-6.38672E-02,-5.41016E-02,-5.41016E-02,-5.41016E-02,-4.43359E-02,-4.43359E-02,-4.43359E-02,-4.43359E-02,-5.41016E-02,-5.41016E-02,-6.38672E-02,-6.38672E-02,-7.36328E-02,-7.36328E-02,-7.36328E-02,-7.36328E-02,-7.36328E-02,-6.38672E-02,-6.38672E-02,-5.41016E-02,-4.43359E-02,-4.43359E-02,-4.43359E-02,-4.43359E-02,-4.43359E-02,-4.43359E-02,-4.43359E-02,-5.41016E-02,-6.38672E-02,-6.38672E-02,-6.38672E-02,-7.36328E-02,-7.36328E-02,-7.36328E-02,-6.38672E-02,-6.38672E-02,-5.41016E-02,-5.41016E-02,-5.41016E-02,-4.43359E-02,-4.43359E-02,-4.43359E-02,-4.43359E-02,-5.41016E-02,-5.41016E-02,-6.38672E-02,-7.36328E-02,-7.36328E-02,-8.33984E-02,-9.31641E-02,-9.31641E-02,-9.31641E-02,-9.31641E-02,-9.31641E-02,-9.31641E-02,-8.33984E-02,-7.36328E-02,-6.38672E-02,-5.41016E-02,-4.43359E-02,-3.45703E-02,-2.48047E-02,-1.50391E-02,-1.50391E-02,-5.27344E-03,-5.27344E-03,-5.27344E-03,-5.27344E-03,-1.50391E-02,-1.50391E-02,-2.48047E-02,-2.48047E-02,-3.45703E-02,-3.45703E-02,-4.43359E-02,-4.43359E-02,-4.43359E-02,-4.43359E-02,-4.43359E-02,-4.43359E-02,-4.43359E-02,-4.43359E-02,-3.45703E-02,-4.43359E-02,-4.43359E-02,-4.43359E-02,-4.43359E-02,-5.41016E-02,-5.41016E-02,-6.38672E-02,-6.38672E-02,-6.38672E-02,-6.38672E-02,-6.38672E-02,-6.38672E-02,-5.41016E-02,-5.41016E-02,-4.43359E-02,-4.43359E-02,-3.45703E-02,-3.45703E-02,-3.45703E-02,-3.45703E-02,-3.45703E-02,-3.45703E-02,-3.45703E-02,-4.43359E-02,-4.43359E-02,-4.43359E-02,-4.43359E-02,-4.43359E-02,-4.43359E-02,-4.43359E-02,-3.45703E-02,-3.45703E-02,-3.45703E-02,-3.45703E-02,-3.45703E-02,-3.45703E-02,-4.43359E-02,-4.43359E-02,-5.41016E-02,-5.41016E-02,-6.38672E-02,-7.36328E-02,-7.36328E-02,-7.36328E-02,-7.36328E-02,-7.36328E-02,-7.36328E-02,-7.36328E-02,-6.38672E-02,-6.38672E-02,-5.41016E-02,-5.41016E-02,-4.43359E-02,-4.43359E-02,-3.45703E-02,-3.45703E-02,-3.45703E-02,-3.45703E-02,-3.45703E-02,-3.45703E-02,-3.45703E-02,-3.45703E-02,-3.45703E-02,-4.43359E-02,-4.43359E-02,-4.43359E-02,-5.41016E-02,-6.38672E-02,-6.38672E-02,-7.36328E-02,-7.36328E-02,-8.33984E-02,-8.33984E-02,-8.33984E-02,-8.33984E-02,-8.33984E-02,-7.36328E-02,-7.36328E-02,-6.38672E-02,-6.38672E-02,-6.38672E-02,-5.41016E-02,-5.41016E-02,-5.41016E-02,-5.41016E-02,-5.41016E-02,-6.38672E-02,-6.38672E-02,-6.38672E-02,-7.36328E-02,-7.36328E-02,-7.36328E-02,-7.36328E-02,-7.36328E-02,-6.38672E-02,-5.41016E-02,-5.41016E-02,-4.43359E-02,-3.45703E-02,-2.48047E-02,-2.48047E-02,-1.50391E-02,-1.50391E-02,-1.50391E-02,-2.48047E-02,-2.48047E-02,-3.45703E-02,-4.43359E-02,-5.41016E-02,-5.41016E-02,-6.38672E-02,-7.36328E-02,-7.36328E-02,-8.33984E-02,-8.33984E-02,-8.33984E-02,-8.33984E-02,-7.36328E-02,-7.36328E-02,-6.38672E-02,-5.41016E-02,-5.41016E-02,-4.43359E-02,-3.45703E-02,-3.45703E-02,-2.48047E-02,-2.48047E-02,-2.48047E-02,-2.48047E-02,-3.45703E-02,-3.45703E-02,-3.45703E-02,-4.43359E-02,-4.43359E-02,-5.41016E-02,-5.41016E-02,-5.41016E-02,-5.41016E-02,-5.41016E-02,-5.41016E-02,-4.43359E-02,-4.43359E-02,-4.43359E-02,-3.45703E-02,-3.45703E-02,-3.45703E-02,-3.45703E-02,-3.45703E-02,-3.45703E-02,-4.43359E-02,-4.43359E-02,-4.43359E-02,-5.41016E-02,-5.41016E-02,-5.41016E-02,-5.41016E-02,-5.41016E-02,-5.41016E-02,-5.41016E-02,-5.41016E-02,-4.43359E-02,-4.43359E-02,-4.43359E-02,-4.43359E-02,-4.43359E-02,-4.43359E-02,-4.43359E-02,-3.45703E-02,-3.45703E-02,-3.45703E-02,-3.45703E-02,-3.45703E-02,-3.45703E-02,-3.45703E-02,-3.45703E-02,-3.45703E-02,-4.43359E-02,-4.43359E-02,-5.41016E-02,-6.38672E-02,-7.36328E-02,-7.36328E-02,-8.33984E-02,-8.33984E-02,-9.31641E-02,-8.33984E-02,-8.33984E-02,-7.36328E-02,-7.36328E-02,-6.38672E-02,-5.41016E-02,-4.43359E-02,-3.45703E-02,-3.45703E-02,-3.45703E-02,-3.45703E-02,-4.43359E-02,-4.43359E-02,-5.41016E-02,-6.38672E-02,-6.38672E-02,-7.36328E-02,-7.36328E-02,-7.36328E-02,-7.36328E-02,-6.38672E-02,-6.38672E-02,-5.41016E-02,-4.43359E-02,-4.43359E-02,-4.43359E-02,-4.43359E-02,-5.41016E-02,-5.41016E-02,-6.38672E-02,-7.36328E-02,-8.33984E-02,-8.33984E-02,-9.31641E-02,-9.31641E-02,-1.02930E-01,-9.31641E-02,-9.31641E-02,-9.31641E-02,-8.33984E-02,-8.33984E-02,-7.36328E-02,-7.36328E-02,-6.38672E-02,-6.38672E-02,-6.38672E-02,-6.38672E-02,-6.38672E-02,-6.38672E-02,-6.38672E-02,-6.38672E-02,-6.38672E-02,-6.38672E-02,-5.41016E-02,-5.41016E-02,-5.41016E-02,-4.43359E-02,-4.43359E-02,-4.43359E-02,-4.43359E-02,-4.43359E-02,-4.43359E-02,-3.45703E-02,-3.45703E-02,-3.45703E-02,-3.45703E-02,-3.45703E-02,-3.45703E-02,-2.48047E-02,-2.48047E-02,-2.48047E-02,-2.48047E-02,-3.45703E-02,-3.45703E-02,-4.43359E-02,-4.43359E-02,-5.41016E-02,-6.38672E-02,-6.38672E-02,-7.36328E-02,-7.36328E-02,-7.36328E-02,-7.36328E-02,-6.38672E-02,-5.41016E-02,-4.43359E-02,-3.45703E-02,-2.48047E-02,-2.48047E-02,-1.50391E-02,-1.50391E-02,-1.50391E-02,-1.50391E-02,-2.48047E-02,-2.48047E-02,-3.45703E-02,-4.43359E-02,-5.41016E-02,-6.38672E-02,-6.38672E-02,-7.36328E-02,-7.36328E-02,-6.38672E-02,-6.38672E-02,-6.38672E-02,-5.41016E-02,-4.43359E-02,-4.43359E-02,-3.45703E-02,-3.45703E-02,-2.48047E-02,-2.48047E-02,-2.48047E-02,-2.48047E-02,-2.48047E-02,-2.48047E-02,-2.48047E-02,-3.45703E-02,-3.45703E-02,-3.45703E-02,-4.43359E-02,-4.43359E-02,-4.43359E-02,-5.41016E-02,-5.41016E-02,-6.38672E-02,-6.38672E-02,-6.38672E-02,-7.36328E-02,-7.36328E-02,-7.36328E-02,-7.36328E-02,-7.36328E-02,-7.36328E-02,-7.36328E-02,-7.36328E-02,-7.36328E-02,-7.36328E-02,-7.36328E-02,-6.38672E-02,-6.38672E-02,-6.38672E-02,-5.41016E-02,-5.41016E-02,-4.43359E-02,-4.43359E-02,-4.43359E-02,-3.45703E-02,-3.45703E-02,-3.45703E-02,-3.45703E-02,-3.45703E-02,-3.45703E-02,-3.45703E-02,-3.45703E-02,-4.43359E-02,-4.43359E-02,-5.41016E-02,-5.41016E-02,-5.41016E-02,-5.41016E-02,-5.41016E-02,-5.41016E-02,-4.43359E-02,-4.43359E-02,-4.43359E-02,-3.45703E-02,-3.45703E-02,-3.45703E-02,-3.45703E-02,-3.45703E-02,-3.45703E-02,-4.43359E-02,-4.43359E-02,-4.43359E-02,-5.41016E-02,-5.41016E-02,-5.41016E-02,-5.41016E-02,-5.41016E-02,-4.43359E-02,-4.43359E-02,-3.45703E-02,-3.45703E-02,-2.48047E-02,-2.48047E-02,-2.48047E-02,-1.50391E-02,-1.50391E-02,-1.50391E-02,-1.50391E-02,-1.50391E-02,-2.48047E-02,-2.48047E-02,-2.48047E-02,-3.45703E-02,-3.45703E-02,-4.43359E-02,-5.41016E-02,-5.41016E-02,-6.38672E-02,-7.36328E-02,-8.33984E-02,-8.33984E-02,-9.31641E-02,-9.31641E-02,-9.31641E-02,-9.31641E-02,-9.31641E-02,-8.33984E-02,-7.36328E-02,-6.38672E-02,-5.41016E-02,-4.43359E-02,-3.45703E-02,-2.48047E-02,-1.50391E-02,-1.50391E-02,-1.50391E-02,-1.50391E-02,-2.48047E-02,-2.48047E-02,-3.45703E-02,-3.45703E-02,-4.43359E-02,-4.43359E-02,-4.43359E-02,-4.43359E-02,-4.43359E-02,-4.43359E-02,-3.45703E-02,-3.45703E-02,-3.45703E-02,-3.45703E-02,-3.45703E-02,-3.45703E-02,-4.43359E-02,-4.43359E-02,-5.41016E-02,-5.41016E-02,-6.38672E-02,-6.38672E-02,-6.38672E-02,-6.38672E-02,-6.38672E-02,-5.41016E-02,-5.41016E-02,-5.41016E-02,-4.43359E-02,-4.43359E-02,-4.43359E-02,-4.43359E-02,-4.43359E-02,-4.43359E-02,-4.43359E-02,-4.43359E-02,-4.43359E-02,-4.43359E-02,-4.43359E-02,-4.43359E-02,-3.45703E-02,-3.45703E-02,-2.48047E-02,-2.48047E-02,-2.48047E-02,-2.48047E-02,-2.48047E-02,-2.48047E-02,-3.45703E-02,-3.45703E-02,-3.45703E-02,-4.43359E-02,-4.43359E-02,-4.43359E-02,-4.43359E-02,-4.43359E-02,-4.43359E-02,-4.43359E-02,-3.45703E-02,-3.45703E-02,-4.43359E-02,-4.43359E-02,-5.41016E-02,-5.41016E-02,-6.38672E-02,-7.36328E-02,-7.36328E-02,-8.33984E-02,-8.33984E-02,-8.33984E-02,-8.33984E-02,-7.36328E-02,-7.36328E-02,-6.38672E-02,-5.41016E-02,-5.41016E-02,-4.43359E-02,-4.43359E-02,-4.43359E-02,-4.43359E-02,-4.43359E-02,-5.41016E-02,-6.38672E-02,-6.38672E-02,-7.36328E-02,-7.36328E-02,-7.36328E-02,-7.36328E-02,-7.36328E-02,-6.38672E-02,-6.38672E-02,-5.41016E-02,-5.41016E-02,-4.43359E-02,-4.43359E-02,-3.45703E-02,-3.45703E-02,-3.45703E-02,-3.45703E-02,-3.45703E-02,-4.43359E-02,-4.43359E-02,-4.43359E-02,-4.43359E-02,-4.43359E-02,-4.43359E-02,-4.43359E-02,-4.43359E-02,-4.43359E-02,-4.43359E-02,-4.43359E-02,-4.43359E-02,-4.43359E-02,-4.43359E-02,-4.43359E-02,-4.43359E-02,-4.43359E-02,-4.43359E-02,-4.43359E-02,-4.43359E-02,-4.43359E-02,-4.43359E-02,-3.45703E-02,-3.45703E-02,-3.45703E-02,-3.45703E-02,-3.45703E-02,-3.45703E-02,-3.45703E-02,-3.45703E-02,-3.45703E-02,-3.45703E-02,-3.45703E-02'"
      ]
     },
     "execution_count": 5,
     "metadata": {},
     "output_type": "execute_result"
    }
   ],
   "source": [
    "result"
   ]
  },
  {
   "cell_type": "code",
   "execution_count": 38,
   "metadata": {},
   "outputs": [],
   "source": [
    "device.close()"
   ]
  },
  {
   "cell_type": "markdown",
   "metadata": {},
   "source": [
    "## Keysight\n",
    "\n",
    "### Oscilloscope"
   ]
  },
  {
   "cell_type": "code",
   "execution_count": 1,
   "metadata": {},
   "outputs": [],
   "source": [
    "from labdevices import keysight"
   ]
  },
  {
   "cell_type": "code",
   "execution_count": null,
   "metadata": {},
   "outputs": [],
   "source": [
    "device = keysight.Oscilloscope(resources[1])"
   ]
  },
  {
   "cell_type": "code",
   "execution_count": 4,
   "metadata": {},
   "outputs": [
    {
     "name": "stdout",
     "output_type": "stream",
     "text": [
      "Connected to:\n",
      "KEYSIGHT TECHNOLOGIES,DSO-X 3034T,MY55280218,04.06.2015051201\n"
     ]
    }
   ],
   "source": [
    "device.initialize()"
   ]
  },
  {
   "cell_type": "code",
   "execution_count": 5,
   "metadata": {},
   "outputs": [
    {
     "name": "stdout",
     "output_type": "stream",
     "text": [
      "(array([-9.531250e-07, -9.527250e-07, -9.523250e-07, ...,  1.045675e-06,\n",
      "        1.046075e-06,  1.046475e-06]), array([-0.74773869, -0.57889447, -0.64321608, ...,  0.        ,\n",
      "        0.        ,  0.        ]))\n"
     ]
    }
   ],
   "source": [
    "trace = device.get_trace(1)\n",
    "print(trace)"
   ]
  },
  {
   "cell_type": "code",
   "execution_count": 5,
   "metadata": {},
   "outputs": [],
   "source": [
    "screen = device.get_screen_shot()"
   ]
  },
  {
   "cell_type": "code",
   "execution_count": 6,
   "metadata": {},
   "outputs": [],
   "source": [
    "with open('screen.png', 'wb+') as f:\n",
    "    f.write(screen)"
   ]
  },
  {
   "cell_type": "code",
   "execution_count": 7,
   "metadata": {},
   "outputs": [
    {
     "data": {
      "text/plain": [
       "Preamble(data_format=0, data_type=0, points=5000, count=1, x_increment=4e-10, x_origin=-9.53125e-07, x_reference=0, y_increment=0.008040201, y_origin=0.0, y_reference=128)"
      ]
     },
     "execution_count": 7,
     "metadata": {},
     "output_type": "execute_result"
    }
   ],
   "source": [
    "device.get_preamble(channel=1)"
   ]
  },
  {
   "cell_type": "markdown",
   "metadata": {},
   "source": [
    "### Counter"
   ]
  },
  {
   "cell_type": "code",
   "execution_count": 21,
   "metadata": {},
   "outputs": [],
   "source": [
    "counter = keysight.Counter('10.0.0.120')"
   ]
  },
  {
   "cell_type": "code",
   "execution_count": 22,
   "metadata": {},
   "outputs": [
    {
     "name": "stdout",
     "output_type": "stream",
     "text": [
      "Connected to:\n",
      "Agilent Technologies,53230A,MY50000373,01.12-1313.3321-1.19-4.10-127-154-35\n"
     ]
    }
   ],
   "source": [
    "counter.initialize()"
   ]
  },
  {
   "cell_type": "code",
   "execution_count": 4,
   "metadata": {},
   "outputs": [
    {
     "data": {
      "text/plain": [
       "'IMM'"
      ]
     },
     "execution_count": 4,
     "metadata": {},
     "output_type": "execute_result"
    }
   ],
   "source": [
    "counter.trigger_mode"
   ]
  },
  {
   "cell_type": "code",
   "execution_count": 15,
   "metadata": {},
   "outputs": [
    {
     "data": {
      "text/plain": [
       "0.001"
      ]
     },
     "execution_count": 15,
     "metadata": {},
     "output_type": "execute_result"
    }
   ],
   "source": [
    "counter.gate_time"
   ]
  },
  {
   "cell_type": "code",
   "execution_count": 18,
   "metadata": {},
   "outputs": [
    {
     "data": {
      "text/plain": [
       "300000.314776433"
      ]
     },
     "execution_count": 18,
     "metadata": {},
     "output_type": "execute_result"
    }
   ],
   "source": [
    "counter.measure_frequency()"
   ]
  },
  {
   "cell_type": "code",
   "execution_count": 16,
   "metadata": {},
   "outputs": [],
   "source": [
    "counter.start_frequency_measurement()"
   ]
  },
  {
   "cell_type": "code",
   "execution_count": 19,
   "metadata": {},
   "outputs": [
    {
     "name": "stdout",
     "output_type": "stream",
     "text": [
      "300000.314776433\n"
     ]
    }
   ],
   "source": [
    "result = counter.query(\"FETCH?\")\n",
    "print(float(result))"
   ]
  },
  {
   "cell_type": "code",
   "execution_count": 20,
   "metadata": {},
   "outputs": [],
   "source": [
    "counter.close()"
   ]
  },
  {
   "cell_type": "markdown",
   "metadata": {},
   "source": [
    "# Stanford Research Systems"
   ]
  },
  {
   "cell_type": "code",
   "execution_count": 1,
   "metadata": {},
   "outputs": [],
   "source": [
    "from labdevices import stanford_research_systems"
   ]
  },
  {
   "cell_type": "markdown",
   "metadata": {},
   "source": [
    "## DG645"
   ]
  },
  {
   "cell_type": "code",
   "execution_count": 2,
   "metadata": {},
   "outputs": [],
   "source": [
    "dg = stanford_research_systems.DG645('10.0.0.34', 5025)"
   ]
  },
  {
   "cell_type": "code",
   "execution_count": 3,
   "metadata": {},
   "outputs": [
    {
     "name": "stdout",
     "output_type": "stream",
     "text": [
      "Connected to:\n",
      "    Stanford Research Systems,DG645,s/n006855,ver1.18.118\n"
     ]
    }
   ],
   "source": [
    "dg.initialize()"
   ]
  },
  {
   "cell_type": "code",
   "execution_count": 4,
   "metadata": {},
   "outputs": [
    {
     "data": {
      "text/plain": [
       "(0, 7.44498e-05)"
      ]
     },
     "execution_count": 4,
     "metadata": {},
     "output_type": "execute_result"
    }
   ],
   "source": [
    "dg.get_delay(2)"
   ]
  },
  {
   "cell_type": "code",
   "execution_count": 14,
   "metadata": {},
   "outputs": [
    {
     "data": {
      "text/plain": [
       "'+0.50'"
      ]
     },
     "execution_count": 14,
     "metadata": {},
     "output_type": "execute_result"
    }
   ],
   "source": [
    "dg.get_output_level(2)"
   ]
  },
  {
   "cell_type": "code",
   "execution_count": 5,
   "metadata": {},
   "outputs": [
    {
     "data": {
      "text/plain": [
       "0"
      ]
     },
     "execution_count": 5,
     "metadata": {},
     "output_type": "execute_result"
    }
   ],
   "source": [
    "int('0')"
   ]
  },
  {
   "cell_type": "code",
   "execution_count": null,
   "metadata": {},
   "outputs": [],
   "source": []
  }
 ],
 "metadata": {
  "kernelspec": {
   "display_name": "Python [conda env:lab]",
   "language": "python",
   "name": "conda-env-lab-py"
  },
  "language_info": {
   "codemirror_mode": {
    "name": "ipython",
    "version": 3
   },
   "file_extension": ".py",
   "mimetype": "text/x-python",
   "name": "python",
   "nbconvert_exporter": "python",
   "pygments_lexer": "ipython3",
   "version": "3.7.7"
  }
 },
 "nbformat": 4,
 "nbformat_minor": 4
}
